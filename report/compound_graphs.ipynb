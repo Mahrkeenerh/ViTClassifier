{
 "cells": [
  {
   "cell_type": "code",
   "execution_count": 1,
   "metadata": {},
   "outputs": [],
   "source": [
    "import json\n",
    "\n",
    "import matplotlib.pyplot as plt"
   ]
  },
  {
   "cell_type": "code",
   "execution_count": 4,
   "metadata": {},
   "outputs": [],
   "source": [
    "with open('confused/imba/logs/dump.json') as f:\n",
    "    imbalance_accuracy = json.load(f)['accuracy_1']\n",
    "\n",
    "with open('confused/balanced/logs/dump.json') as f:\n",
    "    accuracy = json.load(f)['accuracy_1']\n",
    "\n",
    "plt.figure(figsize=(10, 5))\n",
    "plt.plot(imbalance_accuracy, label=\"Imbalanced\")\n",
    "plt.plot(accuracy, label=\"Balanced\")\n",
    "plt.legend()\n",
    "plt.xlabel(\"Epoch\")\n",
    "plt.ylabel(\"Accuracy\")\n",
    "plt.title(\"Validation accuracy\")\n",
    "plt.savefig(\"compound_graphs/imba_accuracy.png\")\n",
    "plt.close()"
   ]
  },
  {
   "cell_type": "code",
   "execution_count": null,
   "metadata": {},
   "outputs": [],
   "source": [
    "with open('balance_function/CLS_min/logs/dump.json') as f:\n",
    "    cls_acc = json.load(f)['accuracy'][:250]\n",
    "\n",
    "with open('cls_vs_embeds/embeds_min_lowerlr/logs/dump.json') as f:\n",
    "    embeds_acc = json.load(f)['accuracy']\n",
    "\n",
    "with open('cls_vs_embeds/vit_CLS_min_anneal_lowlr/logs/dump.json') as f:\n",
    "    vit_acc = json.load(f)['accuracy']\n",
    "\n",
    "plt.figure(figsize=(10, 5))\n",
    "plt.plot(cls_acc, label=\"CLS\")\n",
    "plt.plot(embeds_acc, label=\"Embeds\")\n",
    "plt.plot(vit_acc, label=\"ViT\")\n",
    "plt.legend()\n",
    "plt.xlabel(\"Epoch\")\n",
    "plt.ylabel(\"Accuracy\")\n",
    "plt.title(\"Validation accuracy\")\n",
    "plt.savefig(\"compound_graphs/cls_vs_embeds.png\")\n",
    "plt.close()"
   ]
  },
  {
   "cell_type": "code",
   "execution_count": null,
   "metadata": {},
   "outputs": [],
   "source": [
    "with open('cls_vs_embeds/vit_CLS_min_anneal_lowlr/logs/dump.json') as f:\n",
    "    acc_224 = json.load(f)['accuracy']\n",
    "\n",
    "with open('resolution/vit_448_min/logs/dump.json') as f:\n",
    "    acc_448 = json.load(f)['accuracy']\n",
    "\n",
    "plt.figure(figsize=(10, 5))\n",
    "plt.plot(acc_224, label=\"224\")\n",
    "plt.plot(acc_448, label=\"448\")\n",
    "plt.legend()\n",
    "plt.xlabel(\"Epoch\")\n",
    "plt.ylabel(\"Accuracy\")\n",
    "plt.title(\"Validation accuracy\")\n",
    "plt.savefig(\"compound_graphs/resolution.png\")\n",
    "plt.close()"
   ]
  },
  {
   "cell_type": "code",
   "execution_count": null,
   "metadata": {},
   "outputs": [],
   "source": [
    "with open('multi-image/single_classifier/logs/dump.json') as f:\n",
    "    single_cls = json.load(f)['accuracy_1']\n",
    "\n",
    "with open('multi-image/single_classifier_multi_eval_min/logs/dump.json') as f:\n",
    "    single_multi_cls = json.load(f)['accuracy_1']\n",
    "\n",
    "with open('multi-image/multi_classifier_min/logs/dump.json') as f:\n",
    "    multi_cls = json.load(f)['accuracy_1']\n",
    "\n",
    "plt.figure(figsize=(10, 5))\n",
    "plt.plot(single_cls, label=\"Single train/eval\")\n",
    "plt.plot(single_multi_cls, label=\"Single train/multi eval\")\n",
    "plt.plot(multi_cls, label=\"Multi train/eval\")\n",
    "plt.legend()\n",
    "plt.xlabel(\"Epoch\")\n",
    "plt.ylabel(\"Accuracy\")\n",
    "plt.title(\"Validation accuracy\")\n",
    "plt.savefig(\"compound_graphs/multi_image.png\")\n",
    "plt.close()"
   ]
  },
  {
   "cell_type": "code",
   "execution_count": null,
   "metadata": {},
   "outputs": [],
   "source": [
    "with open('datasets/full_simple_multi_min/logs/dump.json') as f:\n",
    "    full = json.load(f)['accuracy_1']\n",
    "\n",
    "with open('multi-image/single_classifier_multi_eval_min/logs/dump.json') as f:\n",
    "    filtered = json.load(f)['accuracy_1']\n",
    "\n",
    "with open('datasets/heavy_simple_multi_min/logs/dump.json') as f:\n",
    "    heavy = json.load(f)['accuracy_1']\n",
    "\n",
    "plt.figure(figsize=(10, 5))\n",
    "plt.plot(full, label=\"Full dataset\")\n",
    "plt.plot(filtered, label=\"Filtered dataset\")\n",
    "plt.plot(heavy, label=\"Heavily-filtered dataset\")\n",
    "plt.legend()\n",
    "plt.xlabel(\"Epoch\")\n",
    "plt.ylabel(\"Accuracy\")\n",
    "plt.title(\"Validation accuracy\")\n",
    "plt.savefig(\"compound_graphs/datasets.png\")\n",
    "plt.close()"
   ]
  }
 ],
 "metadata": {
  "kernelspec": {
   "display_name": "Python 3",
   "language": "python",
   "name": "python3"
  },
  "language_info": {
   "codemirror_mode": {
    "name": "ipython",
    "version": 3
   },
   "file_extension": ".py",
   "mimetype": "text/x-python",
   "name": "python",
   "nbconvert_exporter": "python",
   "pygments_lexer": "ipython3",
   "version": "3.11.2"
  }
 },
 "nbformat": 4,
 "nbformat_minor": 2
}
